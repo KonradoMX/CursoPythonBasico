{
  "nbformat": 4,
  "nbformat_minor": 0,
  "metadata": {
    "colab": {
      "provenance": [],
      "authorship_tag": "ABX9TyPf+8bJwizkvVRihHNlS/1y",
      "include_colab_link": true
    },
    "kernelspec": {
      "name": "python3",
      "display_name": "Python 3"
    },
    "language_info": {
      "name": "python"
    }
  },
  "cells": [
    {
      "cell_type": "markdown",
      "metadata": {
        "id": "view-in-github",
        "colab_type": "text"
      },
      "source": [
        "<a href=\"https://colab.research.google.com/github/KonradoMX/CursoPythonBasico/blob/master/Unidad3_Python.ipynb\" target=\"_parent\"><img src=\"https://colab.research.google.com/assets/colab-badge.svg\" alt=\"Open In Colab\"/></a>"
      ]
    },
    {
      "cell_type": "markdown",
      "source": [
        "\n",
        "# ***PROGRAMACIÓN PYTHON***\n",
        "\n",
        "---\n",
        "\n",
        "\n",
        "\n"
      ],
      "metadata": {
        "id": "hvOSDIk18k-O"
      }
    },
    {
      "cell_type": "markdown",
      "source": [
        "# **UNIDAD 3 - Funciones, cadenas y listas.**\n",
        "\n",
        "---\n",
        "## Funciones.\n",
        "\n",
        "Como todos los lenguajes de programación, en Python es posible definir funciones propias para ejecutar código personalizado. Para definirlas es necesario utilizar la palabra reservada `def`. La sintaxis de cualquier función en Python es la siguiente:\n",
        "\n",
        "```\n",
        "def nombre_funcion(parámetros):\n",
        "    código\n",
        "    return retorno\n",
        "```\n",
        "\n",
        "Toda función contiene un **nombre, parámetros** y **valor de retorno** (opcional). Al igual que las variables, no es necesario definir el tipo de dato que retornará la función. Al igual que sucede con las estructuras de slección y los ciclos, ya que se va a comenzar con un nuevo bloque de código, es necsario dejar una identación para que el interpreta reconozca el código subsecuente como parte del cuerpo de la función. El valor de retorno es opcional, sí la función no devuelve nada, se omite.\n",
        "\n",
        "Como ejemplo se va a desarrollar una función sin argumentos que nada más salude al usuario:"
      ],
      "metadata": {
        "id": "ORKz6k_BKrNv"
      }
    },
    {
      "cell_type": "code",
      "source": [
        "def saludar():\n",
        "  print(\"Hola usuario\")"
      ],
      "metadata": {
        "id": "uAplf9tu2rl1"
      },
      "execution_count": null,
      "outputs": []
    },
    {
      "cell_type": "markdown",
      "source": [
        "Una llamada a la función, es igual que en otro lenguajes de programación, escribiendo su nombre y los argumentos correspondientes:"
      ],
      "metadata": {
        "id": "nzAHYMlA20VM"
      }
    },
    {
      "cell_type": "code",
      "source": [
        "saludar()"
      ],
      "metadata": {
        "colab": {
          "base_uri": "https://localhost:8080/"
        },
        "id": "F7Nhwr422-CS",
        "outputId": "3c5eb972-117c-4600-d253-9a47ebdcceac"
      },
      "execution_count": null,
      "outputs": [
        {
          "output_type": "stream",
          "name": "stdout",
          "text": [
            "Hola usuario\n"
          ]
        }
      ]
    },
    {
      "cell_type": "markdown",
      "source": [
        "## **Pase de argumentos.**\n",
        "\n",
        "Todas las funciones en Python tienen la capacidad de recibir parámetros, que son las variables locales con las que operará la función.\n",
        "\n",
        "En Python, a las funciones se les puede pasar un argumento, argumentos posicionados, por nombre, predetermnados y de longitud variable.\n",
        "\n",
        "### ***Parámetro sencillo.***\n",
        "\n",
        "Modificar la función anterior pero agregando como argumento el nombre de a quien saludará:"
      ],
      "metadata": {
        "id": "6mUVOm693GlQ"
      }
    },
    {
      "cell_type": "code",
      "source": [
        "def saludar(nombre):\n",
        "  print(\"Hola \", nombre)\n",
        "\n",
        "saludar(\"Konrado\")"
      ],
      "metadata": {
        "colab": {
          "base_uri": "https://localhost:8080/"
        },
        "id": "aIFcYf6J4L-5",
        "outputId": "1e3d6875-e5b5-4547-feb5-b6fb702ff382"
      },
      "execution_count": null,
      "outputs": [
        {
          "output_type": "stream",
          "name": "stdout",
          "text": [
            "Hola  Konrado\n"
          ]
        }
      ]
    },
    {
      "cell_type": "markdown",
      "source": [
        "En otros lenguajes de programación existe la sobrecarga de funciones ¿Recuerdas qué significa ese término? Consiste en tener varias funciones con el mismo nombre cuya única diferencia es la cantidad y opcionalmente el tipo de argumentos que recibe. Por ejemplo en C++ es válido tener:\n",
        "\n",
        "```\n",
        "#Código C++\n",
        "int suma(int n1, int n2);\n",
        "int suma(float n1, float n2, float n3);\n",
        "```\n",
        "\n",
        "En el ejemplo anterior, el compilador se encargará de llamar a la función correspondiente cuando sea llamada en base a los valores pasados.\n",
        "\n",
        "¿Qué pasa en Python si intentas llamar las dos funciones difinidas anteriormente?"
      ],
      "metadata": {
        "id": "4mpImYJK4cmF"
      }
    },
    {
      "cell_type": "code",
      "source": [
        "saludar(\"Konrado\")\n",
        "saludar()"
      ],
      "metadata": {
        "colab": {
          "base_uri": "https://localhost:8080/",
          "height": 252
        },
        "id": "ZaNltLRF6bRf",
        "outputId": "67428344-57ca-4aa1-f1a4-d3444de1f191"
      },
      "execution_count": null,
      "outputs": [
        {
          "output_type": "stream",
          "name": "stdout",
          "text": [
            "Hola  Konrado\n"
          ]
        },
        {
          "output_type": "error",
          "ename": "TypeError",
          "evalue": "ignored",
          "traceback": [
            "\u001b[0;31m---------------------------------------------------------------------------\u001b[0m",
            "\u001b[0;31mTypeError\u001b[0m                                 Traceback (most recent call last)",
            "\u001b[0;32m<ipython-input-49-c7bdb093522f>\u001b[0m in \u001b[0;36m<module>\u001b[0;34m()\u001b[0m\n\u001b[1;32m      1\u001b[0m \u001b[0msaludar\u001b[0m\u001b[0;34m(\u001b[0m\u001b[0;34m\"Konrado\"\u001b[0m\u001b[0;34m)\u001b[0m\u001b[0;34m\u001b[0m\u001b[0;34m\u001b[0m\u001b[0m\n\u001b[0;32m----> 2\u001b[0;31m \u001b[0msaludar\u001b[0m\u001b[0;34m(\u001b[0m\u001b[0;34m)\u001b[0m\u001b[0;34m\u001b[0m\u001b[0;34m\u001b[0m\u001b[0m\n\u001b[0m",
            "\u001b[0;31mTypeError\u001b[0m: saludar() missing 1 required positional argument: 'nombre'"
          ]
        }
      ]
    },
    {
      "cell_type": "markdown",
      "source": [
        "Eso es debido a que Python no soporta la sobrecarga de funciones, sin embargo proporciona los otros medios de pase de argumentos que servirán para asemejar la funcionalidad descrita, con la ventaja de que el código será más simple y sencillo de leer.\n",
        "\n",
        "### ***Parámetros por posición.***\n",
        "\n",
        "Los parámetros por posición son aquellos que en la firma de la función tiene un orden y que al ser invocada, los datos que se le pasen como argumentos se almacenarán en las variables correspondientes de acuerdo a su posición. Además se exige que la función sea llamada exactamente con la misma cantidad de parámetros con la que fue declarada."
      ],
      "metadata": {
        "id": "Fp4a8Vpq6i3c"
      }
    },
    {
      "cell_type": "code",
      "source": [
        "def resta(n1, n2):\n",
        "  return n1 - n2\n",
        "\n",
        "res = resta(2, 3)\n",
        "\n",
        "print(res)"
      ],
      "metadata": {
        "colab": {
          "base_uri": "https://localhost:8080/"
        },
        "id": "_nDjt9skNPMT",
        "outputId": "49e2999b-0ce9-4144-dc69-f927052b2780"
      },
      "execution_count": null,
      "outputs": [
        {
          "output_type": "stream",
          "name": "stdout",
          "text": [
            "-1\n"
          ]
        }
      ]
    },
    {
      "cell_type": "markdown",
      "source": [
        "### ***Parámetros por nombre.***\n",
        "\n",
        "En Python es posible utilizar el nombre del parámetro para asignarle un valor, usando este modo, es válido ignorar la posición de los argumentos:"
      ],
      "metadata": {
        "id": "RzhJqHHCNupz"
      }
    },
    {
      "cell_type": "code",
      "source": [
        "print(resta(n2 = 3, n1 = 2))"
      ],
      "metadata": {
        "colab": {
          "base_uri": "https://localhost:8080/"
        },
        "id": "DWhUUSoVOl5T",
        "outputId": "2e245f2c-c2d7-4c31-90e8-d1649bd33807"
      },
      "execution_count": null,
      "outputs": [
        {
          "output_type": "stream",
          "name": "stdout",
          "text": [
            "-1\n"
          ]
        }
      ]
    },
    {
      "cell_type": "markdown",
      "source": [
        "### ***Parámetros con valor predeterminado.***\n",
        "\n",
        "En la firma de una función, es posible declarar un parámetro que tenga un valor de manera predeterminada, esto permitirá que dicho argumento sea opcional al momento de invocar la función, el interprete detectará que no le fue asignado algún valor y por tanto utilizará el valor predeterminado:"
      ],
      "metadata": {
        "id": "BRg4y7hmOvKi"
      }
    },
    {
      "cell_type": "code",
      "source": [
        "def resta(n1, n2, n3 = 0):\n",
        "  return n1 - n2 - n3\n",
        "\n",
        "print(resta(2, 3))\n",
        "print(resta(2, 3, 10))"
      ],
      "metadata": {
        "colab": {
          "base_uri": "https://localhost:8080/"
        },
        "id": "PHiM6rpDQYjL",
        "outputId": "f9b25a55-7e45-418a-e764-500975694c92"
      },
      "execution_count": null,
      "outputs": [
        {
          "output_type": "stream",
          "name": "stdout",
          "text": [
            "-1\n",
            "-11\n"
          ]
        }
      ]
    },
    {
      "cell_type": "markdown",
      "source": [
        "### ***Parámetros de longitud variable***.\n",
        "\n",
        "Python permite que el número de argumentos que se le pase a una función pueda ser variable, es decir que la función pueda recibir n cantidad de datos como argumentos. Para indicar al interprete que el argumento será de longitud variable, es necesario anteponer un asterisco (*) antes del nombre del parámetro. AL hacerlo, automáticamente el interprete covierte el parámetro en una tupla:"
      ],
      "metadata": {
        "id": "Jrmgg1kNRBmS"
      }
    },
    {
      "cell_type": "code",
      "source": [
        "def resta(*nums):\n",
        "  print(type(nums))\n",
        "\n",
        "  res = 0\n",
        "  for n in nums:\n",
        "    res -= n\n",
        "\n",
        "  return res\n",
        "\n",
        "print(resta(1))\n",
        "print(resta(2, 3))\n",
        "print(resta(3, 4, 5, 6, 7, 8, 9))"
      ],
      "metadata": {
        "colab": {
          "base_uri": "https://localhost:8080/"
        },
        "id": "2d1lG03iWTOl",
        "outputId": "51d2d22f-6309-4dd2-e4ed-6cc4bd2d6d01"
      },
      "execution_count": null,
      "outputs": [
        {
          "output_type": "stream",
          "name": "stdout",
          "text": [
            "<class 'tuple'>\n",
            "-1\n",
            "<class 'tuple'>\n",
            "-5\n",
            "<class 'tuple'>\n",
            "-42\n"
          ]
        }
      ]
    },
    {
      "cell_type": "markdown",
      "source": [
        "Si agregamos dos asteriscos (**), es posible pasarle como parámetro los datos en forma de *clave = valor*, o bien, diorectamente un diccionario. Para obtener los datos, se utilizará ```items()```:"
      ],
      "metadata": {
        "id": "I3YlNswnX7ZF"
      }
    },
    {
      "cell_type": "code",
      "source": [
        "def resta(**nums):\n",
        "  print(type(nums))\n",
        "  \n",
        "  res = 0\n",
        "  for clave, valor in nums.items():\n",
        "    res -= valor\n",
        "\n",
        "  return res\n",
        "\n",
        "print(resta(entero = 10, flotante = 5.5, imaginario = 3 + 8j))\n",
        "\n",
        "calc = {\"ent\": 6, \"flot\": 56.3, \"img\":2.7j}\n",
        "print(resta(**calc))"
      ],
      "metadata": {
        "colab": {
          "base_uri": "https://localhost:8080/"
        },
        "id": "C5q1RTS6YZf5",
        "outputId": "573048ad-0080-4dbc-f916-5c7cc389bc40"
      },
      "execution_count": null,
      "outputs": [
        {
          "output_type": "stream",
          "name": "stdout",
          "text": [
            "<class 'dict'>\n",
            "(-18.5-8j)\n",
            "<class 'dict'>\n",
            "(-62.3-2.7j)\n"
          ]
        }
      ]
    },
    {
      "cell_type": "markdown",
      "source": [
        "# **Operaciones con cadenas y formateo**.\n",
        "\n",
        "Como se mencionó en lecciones anteriores, las cadenas son secuencias de caracteres y son inmutables. no tiene un tamaño en memoria predeterminado y para declararlas, es necesario colocar el texto entre comillas dobles o sencillas.\n",
        "\n",
        "Dentro de ellas es posible usar secuencias de escape pero también existen las conocidas como *raw strings* que ignoran dichas secuencias:"
      ],
      "metadata": {
        "id": "g0TZADvnbzXK"
      }
    },
    {
      "cell_type": "code",
      "source": [
        "print(\"\\135 \\135\")\n",
        "\n",
        "print(r\"\\135 \\135\")"
      ],
      "metadata": {
        "colab": {
          "base_uri": "https://localhost:8080/"
        },
        "id": "J3CD6WME1ai-",
        "outputId": "b7c3fe6b-c307-4d57-f189-3cc8398e52bb"
      },
      "execution_count": null,
      "outputs": [
        {
          "output_type": "stream",
          "name": "stdout",
          "text": [
            "] ]\n",
            "\\135 \\135\n"
          ]
        }
      ]
    },
    {
      "cell_type": "markdown",
      "source": [
        "Las cadens se pueden concatenar usando el operador \"+\", sin importar la cantidad:"
      ],
      "metadata": {
        "id": "2VV9xaKu2VwH"
      }
    },
    {
      "cell_type": "code",
      "source": [
        "cad1 = \"Concatenación de\"\n",
        "cad2 = \"cadenas.\"\n",
        "\n",
        "print(cad1 + \" \" + cad2)"
      ],
      "metadata": {
        "colab": {
          "base_uri": "https://localhost:8080/"
        },
        "id": "8FSUu2ba2avX",
        "outputId": "9198f57f-4f47-4da4-8ca1-911c5ee6554d"
      },
      "execution_count": null,
      "outputs": [
        {
          "output_type": "stream",
          "name": "stdout",
          "text": [
            "Concatenación de cadenas.\n"
          ]
        }
      ]
    },
    {
      "cell_type": "markdown",
      "source": [
        "Con la función `format()` es posible agregar variables a una cadena, acomodándolas por posición o mediante su nombre:"
      ],
      "metadata": {
        "id": "COkNhAiI28XJ"
      }
    },
    {
      "cell_type": "code",
      "source": [
        "34 cad3 = \"El {} es un entero y el {} es de tipo flotante.\".format(56, 32.5)\n",
        "cad4 = \"Número complejo: {comp} y una cadena {str}\".format(str=\"de caracteres\", comp=34 + 6j)\n",
        "\n",
        "print(cad3)\n",
        "print(cad4)"
      ],
      "metadata": {
        "colab": {
          "base_uri": "https://localhost:8080/"
        },
        "id": "cr1ZjIoF3SDl",
        "outputId": "ad5786e4-237b-48b3-9b32-e448dd8e7a1f"
      },
      "execution_count": null,
      "outputs": [
        {
          "output_type": "stream",
          "name": "stdout",
          "text": [
            "El 56 es un entero y el 32.5 es de tipo flotante.\n",
            "Número complejo: (34+6j) y una cadena de caracteres\n"
          ]
        }
      ]
    },
    {
      "cell_type": "markdown",
      "source": [
        "Las `f-strings()` permiten utilizar variables dentro de las cadenas como los ejemplos anteriores pero además agrega la posibilidad de realizar operaciones dentro de ellas e incluso invocar a una función:"
      ],
      "metadata": {
        "id": "5mgohzdN4KNJ"
      }
    },
    {
      "cell_type": "code",
      "source": [
        "print(f\"La resta de {calc['ent']} menos {calc['flot']} es: {numA - numB}\")\n",
        "print(f\"La resta de {calc['ent']} - {calc['flot']} - {calc['img']} es: {resta(**calc)}\")"
      ],
      "metadata": {
        "colab": {
          "base_uri": "https://localhost:8080/"
        },
        "id": "FLQDtaK34eRs",
        "outputId": "900f0afd-661e-4a6c-fd0a-462d74cd9d2f"
      },
      "execution_count": null,
      "outputs": [
        {
          "output_type": "stream",
          "name": "stdout",
          "text": [
            "La resta de 6 menos 56.3 es: 22.6\n",
            "<class 'dict'>\n",
            "La resta de 6 - 56.3 - 2.7j es: (-62.3-2.7j)\n"
          ]
        }
      ]
    },
    {
      "cell_type": "markdown",
      "source": [
        "Con las cadenas es posible realizar:\n",
        "\n",
        "*   Multiplicación de una cadena por un número entero.\n",
        "*   Buscar si una cadena está contenida en otra.\n",
        "*   Convertir una cadena a su valor numérico y viceversa (este último caso sólo funciona con caráctres).\n",
        "*   Obtener el tamaño de una cadena.\n",
        "*   Conversión de clases.\n",
        "*   Indizarlas.\n",
        "*   Segmentar cadenas.\n",
        "\n",
        "\n",
        "\n"
      ],
      "metadata": {
        "id": "-EfHQdh67Aei"
      }
    },
    {
      "cell_type": "code",
      "source": [
        "print(\"Hola \" * 3)\n",
        "print(\"entero\" in cad3)\n",
        "print(chr(234))\n",
        "print(ord(\"$\"))\n",
        "print(len(cad4))"
      ],
      "metadata": {
        "colab": {
          "base_uri": "https://localhost:8080/"
        },
        "id": "u8EX6wDJ7yp_",
        "outputId": "fc57a3ea-f77f-4b0b-c44b-62ab2ec622d8"
      },
      "execution_count": null,
      "outputs": [
        {
          "output_type": "stream",
          "name": "stdout",
          "text": [
            "Hola Hola Hola \n",
            "True\n",
            "ê\n",
            "36\n",
            "51\n"
          ]
        }
      ]
    },
    {
      "cell_type": "markdown",
      "source": [
        "Las cadenas en Python son una clase muy poderosa en Python y la cual dispone de numerosos métodos que incrementan la flexibilidad, uso y operaciones con este tipo de objeto. Para conocer los métodos e incluso más formas de formateo de cadenas, consulta la [documentación oficial](https://docs.python.org/3/library/stdtypes.html#string-methods)."
      ],
      "metadata": {
        "id": "RZfNqegOSbcq"
      }
    },
    {
      "cell_type": "markdown",
      "source": [
        "# **Operaciones con listas.**\n",
        "\n",
        "Algunas propiedades de las listas:\n",
        "\n",
        "*   Son ordenadas.\n",
        "*   Pueden contener distintos tipos de datos.\n",
        "*   Son iterables.\n",
        "*   Son mutables.\n",
        "*   Son dinámicas.\n",
        "\n",
        "Para acceder a los elementos de una lista, se utilizan los corchetes `[n]`, donde `n` es el índice del elemento al que queremos acceder. El tamaño de la lista va desde 0 hasta n - 1.\n"
      ],
      "metadata": {
        "id": "Y6vL-vdEHuuX"
      }
    },
    {
      "cell_type": "code",
      "source": [
        "lista = [38, \"Hola\", 3.1416, 45 +8j, [1, 2, 3, 4]]\n",
        "\n",
        "print(lista)\n",
        "print(lista[2])\n",
        "print(lista[4])"
      ],
      "metadata": {
        "colab": {
          "base_uri": "https://localhost:8080/"
        },
        "id": "U_zK8stuJKOg",
        "outputId": "e9a32ac6-af13-4c09-f596-ee96ce7a234b"
      },
      "execution_count": null,
      "outputs": [
        {
          "output_type": "stream",
          "name": "stdout",
          "text": [
            "[38, 'Hola', 3.1416, (45+8j), [1, 2, 3, 4]]\n",
            "3.1416\n",
            "[1, 2, 3, 4]\n"
          ]
        }
      ]
    },
    {
      "cell_type": "markdown",
      "source": [
        "Se puede recorres la lista del final hacía el principio utlizando numeros negativos, donde -1 es el úlitmo elemento, -2, el penúlitmo, etc.:"
      ],
      "metadata": {
        "id": "a72S9jVgJh9O"
      }
    },
    {
      "cell_type": "code",
      "source": [
        "print(lista[-1])\n",
        "print(lista[-2])\n",
        "print(lista[-3])"
      ],
      "metadata": {
        "colab": {
          "base_uri": "https://localhost:8080/"
        },
        "id": "65Uw7723JwcV",
        "outputId": "9c33b9a6-c641-45e2-ae06-766f82a6c9d6"
      },
      "execution_count": null,
      "outputs": [
        {
          "output_type": "stream",
          "name": "stdout",
          "text": [
            "[1, 2, 3, 4]\n",
            "(45+8j)\n",
            "3.1416\n"
          ]
        }
      ]
    },
    {
      "cell_type": "markdown",
      "source": [
        "Para modificar un elemento de la lista, tan sólo es necesario asignar el nuevo valor al elemento correspondiente:"
      ],
      "metadata": {
        "id": "3MkC_jBOJ7BH"
      }
    },
    {
      "cell_type": "code",
      "source": [
        "lista[0] = 69\n",
        "print(lista)"
      ],
      "metadata": {
        "colab": {
          "base_uri": "https://localhost:8080/"
        },
        "id": "HII7HkoLKeer",
        "outputId": "5ed36716-7aa5-446e-b62f-4f77ee27d43b"
      },
      "execution_count": null,
      "outputs": [
        {
          "output_type": "stream",
          "name": "stdout",
          "text": [
            "[69, 'Hola', 3.1416, (45+8j), [1, 2, 3, 4]]\n"
          ]
        }
      ]
    },
    {
      "cell_type": "markdown",
      "source": [
        "Para eliminar un elemento de la lista mediante su índice, se utiliza `del`:"
      ],
      "metadata": {
        "id": "YlfnsGV2Kqsy"
      }
    },
    {
      "cell_type": "code",
      "source": [
        "del lista[1]\n",
        "\n",
        "print(lista)"
      ],
      "metadata": {
        "colab": {
          "base_uri": "https://localhost:8080/"
        },
        "id": "ytYksPsGLBnv",
        "outputId": "be216b57-509a-47e1-9eb5-9d20b056d775"
      },
      "execution_count": null,
      "outputs": [
        {
          "output_type": "stream",
          "name": "stdout",
          "text": [
            "[69, 3.1416, (45+8j), [1, 2, 3, 4]]\n"
          ]
        }
      ]
    },
    {
      "cell_type": "markdown",
      "source": [
        "Si se desea acceder a los elementos que forman parte de una lista que está dentro de una lista, se agregan tantos corchetes con su respectivo índice como listas internas se tengan:"
      ],
      "metadata": {
        "id": "f9fzrUOWLJne"
      }
    },
    {
      "cell_type": "code",
      "source": [
        "print(lista[3][2])"
      ],
      "metadata": {
        "colab": {
          "base_uri": "https://localhost:8080/"
        },
        "id": "UrIHO65SLaRC",
        "outputId": "ee6db16f-5cd0-4433-883d-19eb5f302121"
      },
      "execution_count": null,
      "outputs": [
        {
          "output_type": "stream",
          "name": "stdout",
          "text": [
            "3\n"
          ]
        }
      ]
    },
    {
      "cell_type": "markdown",
      "source": [
        "También con las listas, utilizando la sintaxis de `[n:m]` se pueden obtener sublistas y modificar multiples valores. Además las listas soportan el operador `+` que añade una lista a la otra y por otro lado, con una lista es posible asignar sus *n* elementos a n* *cantidad de variables independientes:"
      ],
      "metadata": {
        "id": "wE0ZbM1TLpW-"
      }
    },
    {
      "cell_type": "code",
      "source": [
        "lista2 = [\"Hola\", \"Hello\", \"Ohayoo\"]\n",
        "lista += lista2\n",
        "\n",
        "print(lista)\n",
        "print(lista[1:5])\n",
        "\n",
        "esp, ing, jap = lista[4:7]\n",
        "print(esp, ing, jap)\n"
      ],
      "metadata": {
        "colab": {
          "base_uri": "https://localhost:8080/"
        },
        "id": "fU38WQILMXHZ",
        "outputId": "e82dfc20-57fb-4e89-db59-ef29d77a85cc"
      },
      "execution_count": null,
      "outputs": [
        {
          "output_type": "stream",
          "name": "stdout",
          "text": [
            "[69, 3.1416, (45+8j), [1, 2, 3, 4], 'Hola', 'Hello', 'Ohayoo']\n",
            "[3.1416, (45+8j), [1, 2, 3, 4], 'Hola']\n",
            "Hola Hello Ohayoo\n"
          ]
        }
      ]
    },
    {
      "cell_type": "markdown",
      "source": [
        "También es posible iterar sobre las listas utilizando ciclos para acceder a sus elementos, acompañarlos con su índice e incluso iterar varias listas al mismo tiempo:"
      ],
      "metadata": {
        "id": "zdbZ102kNydH"
      }
    },
    {
      "cell_type": "code",
      "source": [
        "for e in lista:\n",
        "  print(e)\n",
        "\n",
        "print(\"-----\")\n",
        "\n",
        "for indice, e in enumerate(lista):\n",
        "  print(indice, e)\n",
        "\n",
        "print(\"-----\")\n",
        "\n",
        "lista3 = [\"Español:\", \"Inglés:\", \"Japonés:\"]\n",
        "for(e1, e2) in zip(lista2, lista3):\n",
        "  print(e2, e1)"
      ],
      "metadata": {
        "colab": {
          "base_uri": "https://localhost:8080/"
        },
        "id": "Iivv91rjOFLI",
        "outputId": "2dd11fa7-1b61-4022-de89-c70884959641"
      },
      "execution_count": null,
      "outputs": [
        {
          "output_type": "stream",
          "name": "stdout",
          "text": [
            "69\n",
            "3.1416\n",
            "(45+8j)\n",
            "[1, 2, 3, 4]\n",
            "Hola\n",
            "Hello\n",
            "Ohayoo\n",
            "-----\n",
            "0 69\n",
            "1 3.1416\n",
            "2 (45+8j)\n",
            "3 [1, 2, 3, 4]\n",
            "4 Hola\n",
            "5 Hello\n",
            "6 Ohayoo\n",
            "-----\n",
            "Español: Hola\n",
            "Inglés: Hello\n",
            "Japonés: Ohayoo\n"
          ]
        }
      ]
    },
    {
      "cell_type": "markdown",
      "source": [
        "**NOTA:** La función `zip()` crea un objeto *Zip* el cual es un iterador de tuplas donde cada elemento que se le pase como argumento, es emparejado con el del otro parámetro respetando posición en la que se encuentran.\n",
        "\n",
        "Además de las operaciones básicas anteriores, las listas tiene sus propios métodos que también realizan operaciones sobre ellas:\n",
        "\n",
        "\n",
        "*  list.append(x)a\n",
        "*  list.extend(iterable)\n",
        "*  list.insert(i, x)\n",
        "*  list.remove(x)\n",
        "*  list.pop([i])\n",
        "*  list.clear()\n",
        "*  list.index(x[, start[, end]])\n",
        "*  list.count(x)\n",
        "*  list.sort(*, key=None, reverse=False)\n",
        "*  list.reverse()\n",
        "*  list.copy()\n",
        "\n",
        "Para conocer la manera correcta de utilzar los métodos anteriores, revisa la  [documentación oficial de Python sobre listas.](https://docs.python.org/3/tutorial/datastructures.html)\n",
        "\n",
        "## ***Ejercicio:***\n",
        "\n",
        "Después de haber revisado la documentación oficial, en el siguiente apartado añade ejemplos (al menos uno por cada método), del uso de dichas funciones, puedes utlilzar las listas creadas aterioremente o bien definir las propias, sé claro y documenta el código que realices:"
      ],
      "metadata": {
        "id": "C830BXNJPpAg"
      }
    },
    {
      "cell_type": "code",
      "source": [
        "#Añade ejemplos del uso de los métodos de las listas."
      ],
      "metadata": {
        "id": "TrR8t6b-SJK8"
      },
      "execution_count": null,
      "outputs": []
    },
    {
      "cell_type": "markdown",
      "source": [
        "***ANOTA Y COMPARTE TUS REFLEXIONES DE LOS TEMAS VISTOS ANTERIORMENTE:***\n",
        "______________________________________________________________________________\n",
        "_______________________________________________________________________________\n",
        "_______________________________________________________________________________\n",
        "_______________________________________________________________________________\n",
        "_______________________________________________________________________________"
      ],
      "metadata": {
        "id": "SG9zH2AYMsnV"
      }
    },
    {
      "cell_type": "markdown",
      "source": [],
      "metadata": {
        "id": "zsdUdF9w-pew"
      }
    }
  ]
}